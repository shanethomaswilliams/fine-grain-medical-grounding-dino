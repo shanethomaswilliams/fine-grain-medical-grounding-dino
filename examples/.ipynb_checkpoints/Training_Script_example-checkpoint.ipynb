{
 "cells": [
  {
   "cell_type": "markdown",
   "metadata": {
    "colab_type": "text",
    "id": "view-in-github"
   },
   "source": [
    "<a href=\"https://colab.research.google.com/github/SahilCarterr/Open-GroundingDino/blob/main/examples/Training_Script_example.ipynb\" target=\"_parent\"><img src=\"https://colab.research.google.com/assets/colab-badge.svg\" alt=\"Open In Colab\"/></a>"
   ]
  },
  {
   "cell_type": "markdown",
   "metadata": {
    "id": "wSuMRl6JeXaS"
   },
   "source": [
    "### 0. Mounting the GoogleDrive"
   ]
  },
  {
   "cell_type": "code",
   "execution_count": 1,
   "metadata": {
    "colab": {
     "base_uri": "https://localhost:8080/"
    },
    "id": "j5Rhv5Rk8Ttc",
    "outputId": "507580d4-1994-4496-f36a-83ac03b8f59b"
   },
   "outputs": [
    {
     "ename": "ModuleNotFoundError",
     "evalue": "No module named 'google.colab'",
     "output_type": "error",
     "traceback": [
      "\u001b[0;31m---------------------------------------------------------------------------\u001b[0m",
      "\u001b[0;31mModuleNotFoundError\u001b[0m                       Traceback (most recent call last)",
      "Cell \u001b[0;32mIn[1], line 1\u001b[0m\n\u001b[0;32m----> 1\u001b[0m \u001b[38;5;28;01mfrom\u001b[39;00m \u001b[38;5;21;01mgoogle\u001b[39;00m\u001b[38;5;21;01m.\u001b[39;00m\u001b[38;5;21;01mcolab\u001b[39;00m \u001b[38;5;28;01mimport\u001b[39;00m drive\n\u001b[1;32m      2\u001b[0m drive\u001b[38;5;241m.\u001b[39mmount(\u001b[38;5;124m'\u001b[39m\u001b[38;5;124m/content/drive\u001b[39m\u001b[38;5;124m'\u001b[39m)\n",
      "\u001b[0;31mModuleNotFoundError\u001b[0m: No module named 'google.colab'"
     ]
    }
   ],
   "source": [
    "# from google.colab import drive\n",
    "# drive.mount('/cont/drive')"
   ]
  },
  {
   "cell_type": "markdown",
   "metadata": {
    "id": "Xd1RRtqzeXaW"
   },
   "source": [
    "### 1. Installing Open Grounding Dino"
   ]
  },
  {
   "cell_type": "code",
   "execution_count": null,
   "metadata": {
    "colab": {
     "base_uri": "https://localhost:8080/"
    },
    "id": "SE-j-mriN_qo",
    "outputId": "57484172-a5a3-45cc-e7e4-ec12cf10361c"
   },
   "outputs": [],
   "source": [
    "# !git clone \"https://github.com/longzw1997/Open-GroundingDino\""
   ]
  },
  {
   "cell_type": "code",
   "execution_count": null,
   "metadata": {
    "colab": {
     "base_uri": "https://localhost:8080/"
    },
    "id": "ed2ivbNnOxyr",
    "outputId": "c20ed074-be95-46f2-b067-e9ea8b3ab85b"
   },
   "outputs": [],
   "source": [
    "# %cd Open-GroundingDino"
   ]
  },
  {
   "cell_type": "code",
   "execution_count": null,
   "metadata": {
    "id": "VvrAKrL0O0iT"
   },
   "outputs": [],
   "source": [
    "#install requirements.txt\n",
    "# !pip install -r requirements.txt"
   ]
  },
  {
   "cell_type": "code",
   "execution_count": null,
   "metadata": {
    "colab": {
     "base_uri": "https://localhost:8080/"
    },
    "id": "P24TKBIgO4-s",
    "outputId": "95b19997-8398-43e1-dd36-2edd7d76778d"
   },
   "outputs": [],
   "source": [
    "# %cd models/GroundingDINO/ops"
   ]
  },
  {
   "cell_type": "code",
   "execution_count": null,
   "metadata": {
    "id": "b93PRIJAPItA"
   },
   "outputs": [],
   "source": [
    "# !python setup.py install"
   ]
  },
  {
   "cell_type": "code",
   "execution_count": null,
   "metadata": {
    "colab": {
     "base_uri": "https://localhost:8080/"
    },
    "id": "bd4hT8OkPIcx",
    "outputId": "125582c6-e7ad-4017-beeb-e6fcea167c36"
   },
   "outputs": [],
   "source": [
    "# !python test.py"
   ]
  },
  {
   "cell_type": "code",
   "execution_count": 2,
   "metadata": {
    "colab": {
     "base_uri": "https://localhost:8080/"
    },
    "id": "TnK7VxEmVoN-",
    "outputId": "705aa515-d195-4ed9-ec3d-0d30511e228b"
   },
   "outputs": [
    {
     "name": "stdout",
     "output_type": "stream",
     "text": [
      "[Errno 2] No such file or directory: '/content'\n",
      "/cluster/tufts/cs152l3dclass/mprete01/Medical-Grounding-DINO/examples\n"
     ]
    }
   ],
   "source": [
    "%cd /cluster/tufts/cs152l3dclass/mprete01/Medical-Grounding-DINO/content"
   ]
  },
  {
   "cell_type": "markdown",
   "metadata": {
    "id": "s4nLOoUaf38o"
   },
   "source": [
    "### 2. Get the Data\n",
    "#### The Dataset is in COCO format"
   ]
  },
  {
   "cell_type": "code",
   "execution_count": 3,
   "metadata": {
    "colab": {
     "base_uri": "https://localhost:8080/"
    },
    "id": "FjGgFtZGlTAs",
    "outputId": "de24e414-0f48-4a1e-8bf4-5a443cba888a"
   },
   "outputs": [
    {
     "name": "stdout",
     "output_type": "stream",
     "text": [
      "Defaulting to user installation because normal site-packages is not writeable\n",
      "\u001b[33mDEPRECATION: Loading egg at /cluster/tufts/hpc/apps/rhel8/external/apps/anaconda/202406/lib/python3.12/site-packages/rgc-0.2.0-py3.12.egg is deprecated. pip 24.3 will enforce this behaviour change. A possible replacement is to use pip for package installation.. Discussion can be found at https://github.com/pypa/pip/issues/12330\u001b[0m\u001b[33m\n",
      "\u001b[0mCollecting gdown\n",
      "  Downloading gdown-5.2.0-py3-none-any.whl.metadata (5.8 kB)\n",
      "Requirement already satisfied: beautifulsoup4 in /cluster/tufts/hpc/apps/rhel8/external/apps/anaconda/202406/lib/python3.12/site-packages (from gdown) (4.12.3)\n",
      "Requirement already satisfied: filelock in /cluster/tufts/hpc/apps/rhel8/external/apps/anaconda/202406/lib/python3.12/site-packages (from gdown) (3.13.1)\n",
      "Requirement already satisfied: requests[socks] in /cluster/tufts/hpc/apps/rhel8/external/apps/anaconda/202406/lib/python3.12/site-packages (from gdown) (2.32.2)\n",
      "Requirement already satisfied: tqdm in /cluster/tufts/hpc/apps/rhel8/external/apps/anaconda/202406/lib/python3.12/site-packages (from gdown) (4.66.4)\n",
      "Requirement already satisfied: soupsieve>1.2 in /cluster/tufts/hpc/apps/rhel8/external/apps/anaconda/202406/lib/python3.12/site-packages (from beautifulsoup4->gdown) (2.5)\n",
      "Requirement already satisfied: charset-normalizer<4,>=2 in /cluster/tufts/hpc/apps/rhel8/external/apps/anaconda/202406/lib/python3.12/site-packages (from requests[socks]->gdown) (2.0.4)\n",
      "Requirement already satisfied: idna<4,>=2.5 in /cluster/tufts/hpc/apps/rhel8/external/apps/anaconda/202406/lib/python3.12/site-packages (from requests[socks]->gdown) (3.7)\n",
      "Requirement already satisfied: urllib3<3,>=1.21.1 in /cluster/tufts/hpc/apps/rhel8/external/apps/anaconda/202406/lib/python3.12/site-packages (from requests[socks]->gdown) (2.2.2)\n",
      "Requirement already satisfied: certifi>=2017.4.17 in /cluster/tufts/hpc/apps/rhel8/external/apps/anaconda/202406/lib/python3.12/site-packages (from requests[socks]->gdown) (2024.6.2)\n",
      "Requirement already satisfied: PySocks!=1.5.7,>=1.5.6 in /cluster/tufts/hpc/apps/rhel8/external/apps/anaconda/202406/lib/python3.12/site-packages (from requests[socks]->gdown) (1.7.1)\n",
      "Downloading gdown-5.2.0-py3-none-any.whl (18 kB)\n",
      "Installing collected packages: gdown\n",
      "Successfully installed gdown-5.2.0\n",
      "Downloading...\n",
      "From (original): https://drive.google.com/uc?id=1R-vPcCLUAgNOyeaWl4r_iYIVLCeB8Q0t\n",
      "From (redirected): https://drive.google.com/uc?id=1R-vPcCLUAgNOyeaWl4r_iYIVLCeB8Q0t&confirm=t&uuid=c71827c6-88fa-4400-aebb-20fd4a8e67ca\n",
      "To: /cluster/tufts/cs152l3dclass/mprete01/Medical-Grounding-DINO/examples/aquarium_data.zip\n",
      "100%|██████████████████████████████████████| 71.4M/71.4M [00:01<00:00, 66.3MB/s]\n"
     ]
    }
   ],
   "source": [
    "#Downloading the Aquarium Dataset\n",
    "!pip install gdown\n",
    "!gdown https://drive.google.com/uc?id=1R-vPcCLUAgNOyeaWl4r_iYIVLCeB8Q0t"
   ]
  },
  {
   "cell_type": "code",
   "execution_count": 8,
   "metadata": {},
   "outputs": [],
   "source": [
    "local_path = \"/cluster/tufts/cs152l3dclass/mprete01/Medical-Grounding-DINO\""
   ]
  },
  {
   "cell_type": "code",
   "execution_count": 9,
   "metadata": {
    "id": "JqPfyGtNqVAZ"
   },
   "outputs": [],
   "source": [
    "import os\n",
    "os.makedirs(local_path + \"/content/aquarium_data\", exist_ok=True)"
   ]
  },
  {
   "cell_type": "code",
   "execution_count": 11,
   "metadata": {
    "id": "6eubKz6Qp1VF"
   },
   "outputs": [
    {
     "name": "stdout",
     "output_type": "stream",
     "text": [
      "unzip:  cannot find or open /cluster/tufts/cs152l3dclass/mprete01/Medical-Grounding-DINO/aquarium_data.zip, /cluster/tufts/cs152l3dclass/mprete01/Medical-Grounding-DINO/aquarium_data.zip.zip or /cluster/tufts/cs152l3dclass/mprete01/Medical-Grounding-DINO/aquarium_data.zip.ZIP.\n"
     ]
    }
   ],
   "source": [
    "!unzip /cluster/tufts/cs152l3dclass/mprete01/Medical-Grounding-DINO/aquarium_data.zip -d /cluster/tufts/cs152l3dclass/mprete01/Medical-Grounding-DINO/aquarium_data"
   ]
  },
  {
   "cell_type": "markdown",
   "metadata": {
    "id": "KdkH9WHErtaX"
   },
   "source": [
    "#### 2.1 Dataset classes\n",
    "##### Class Breakdown\n",
    "\n",
    "The following classes are labeled: fish, jellyfish, penguins, sharks, puffins, stingrays, and starfish"
   ]
  },
  {
   "cell_type": "markdown",
   "metadata": {
    "id": "RITawyDg6ehu"
   },
   "source": [
    "#### 2.2 Visualizing the Dataset"
   ]
  },
  {
   "cell_type": "code",
   "execution_count": null,
   "metadata": {
    "colab": {
     "base_uri": "https://localhost:8080/",
     "height": 1000
    },
    "id": "Jq_aaSDs6kqb",
    "outputId": "4f92c88e-cd24-41da-8c08-66b91bd104ee"
   },
   "outputs": [],
   "source": [
    "import matplotlib.pyplot as plt\n",
    "import os\n",
    "import random\n",
    "from PIL import Image\n",
    "\n",
    "# Path to the folder containing the images\n",
    "folder_path = '/cont/aquarium_data/train'\n",
    "\n",
    "# Get a list of all files in the folder\n",
    "all_files = os.listdir(folder_path)\n",
    "\n",
    "# Filter the list to include only files with image extensions\n",
    "image_files = [file for file in all_files if file.lower().endswith(('png', 'jpg', 'jpeg', 'gif', 'bmp'))]\n",
    "\n",
    "# Randomly select 16 images from the list\n",
    "selected_images = random.sample(image_files, 16)\n",
    "\n",
    "# Set up the plot grid\n",
    "fig, axes = plt.subplots(4, 4, figsize=(10, 10))\n",
    "\n",
    "# Plot each selected image in the grid\n",
    "for ax, image_file in zip(axes.flatten(), selected_images):\n",
    "    # Open the image file\n",
    "    img = Image.open(os.path.join(folder_path, image_file))\n",
    "\n",
    "    # Display the image on the grid\n",
    "    ax.imshow(img)\n",
    "    ax.axis('off')  # Hide the axes\n",
    "\n",
    "# Adjust the layout to be tight\n",
    "plt.tight_layout()\n",
    "\n",
    "# Show the plot\n",
    "plt.show()\n"
   ]
  },
  {
   "cell_type": "markdown",
   "metadata": {
    "id": "lvjqK42XeXaa"
   },
   "source": [
    "### 2. Converting training data from  COCO to odvg, Val data remains in COCO format only"
   ]
  },
  {
   "cell_type": "markdown",
   "metadata": {
    "id": "mvu3zK3HeXaa"
   },
   "source": [
    "- modifying `line 11` and `line 16` of `Open-GroundingDino/tools/coco2odvg.py` according to the dataset"
   ]
  },
  {
   "cell_type": "code",
   "execution_count": null,
   "metadata": {
    "colab": {
     "base_uri": "https://localhost:8080/"
    },
    "id": "8Tb79AJY3w6Q",
    "outputId": "95695fca-1575-475c-e0a9-d5ead3f12c1e"
   },
   "outputs": [],
   "source": [
    "import re\n",
    "\n",
    "# Define the file path\n",
    "file_path = 'Open-GroundingDino/tools/coco2odvg.py'\n",
    "\n",
    "# Define the new values according to the dataset\n",
    "new_id_map = '{0: 1, 1: 2, 2: 3, 3: 4, 4: 5, 5: 6, 6: 7}'# 7 classes of AquariumDataset\n",
    "new_ori_map = '{\"1\": \"fish\", \"2\": \"jellyfish\", \"3\": \"penguins\", \"4\": \"sharks\", \"5\": \"puffins\", \"6\":\"stingrays\", \"7\": \"starfish\"}'\n",
    "\n",
    "# Read the content of the file\n",
    "with open(file_path, 'r') as file:\n",
    "    content = file.read()\n",
    "\n",
    "# Replace the id_map value using regex\n",
    "content = re.sub(r'id_map\\s*=\\s*\\{[^\\}]*\\}', f'id_map = {new_id_map}', content)\n",
    "\n",
    "# Replace the ori_map value using regex\n",
    "content = re.sub(r'ori_map\\s*=\\s*\\{[^\\}]*\\}', f'ori_map = {new_ori_map}', content)\n",
    "\n",
    "# Write the updated content back to the file\n",
    "with open(file_path, 'w') as file:\n",
    "    file.write(content)\n",
    "\n",
    "print(f\"Updated {file_path} successfully.\")"
   ]
  },
  {
   "cell_type": "code",
   "execution_count": null,
   "metadata": {
    "colab": {
     "base_uri": "https://localhost:8080/"
    },
    "id": "EZ1kNywO7MlM",
    "outputId": "0a3b99c4-c232-4367-91a8-ef84edfefca0"
   },
   "outputs": [],
   "source": [
    "#make a folder for odvg file\n",
    "import os\n",
    "%cd /cont\n",
    "os.makedirs(\"/cont/input_params\", exist_ok=True)"
   ]
  },
  {
   "cell_type": "code",
   "execution_count": null,
   "metadata": {
    "colab": {
     "base_uri": "https://localhost:8080/"
    },
    "id": "rp_Io5tReXaa",
    "outputId": "05694ce4-a988-43cd-e6da-c9a9397c99e9"
   },
   "outputs": [],
   "source": [
    "#change path of input file to your input Coco json file\n",
    "!pip install jsonlines\n",
    "!python /cont/Open-GroundingDino/tools/coco2odvg.py --input \"/cont/aquarium_data/train/_annotations.coco.json\"  --output \"/cont/input_params/train.jsonl\""
   ]
  },
  {
   "cell_type": "markdown",
   "metadata": {
    "id": "p7pX_Gdj8F8K"
   },
   "source": [
    "#### Make label.json with all labels"
   ]
  },
  {
   "cell_type": "code",
   "execution_count": null,
   "metadata": {
    "colab": {
     "base_uri": "https://localhost:8080/"
    },
    "id": "TfmupMKA9bhU",
    "outputId": "26db6044-45a2-4af7-8fb2-b14c81ef097d"
   },
   "outputs": [],
   "source": [
    "import json\n",
    "\n",
    "# Define the content for the JSON file\n",
    "content = {\n",
    "    \"0\": \"fish\",\n",
    "    \"1\": \"jellyfish\",\n",
    "    \"2\": \"penguins\",\n",
    "    \"3\": \"sharks\",\n",
    "    \"4\": \"puffins\",\n",
    "    \"5\": \"stingrays\",\n",
    "    \"6\": \"starfish\",\n",
    "}\n",
    "\n",
    "# Define the file path\n",
    "file_path = '/content/input_params/label.json'\n",
    "\n",
    "# Write the content to the JSON file\n",
    "with open(file_path, 'w') as file:\n",
    "    json.dump(content, file)\n",
    "\n",
    "print(f\"File '{file_path}' created successfully.\")"
   ]
  },
  {
   "cell_type": "code",
   "execution_count": null,
   "metadata": {
    "colab": {
     "base_uri": "https://localhost:8080/"
    },
    "id": "QTNyQGqmVdSp",
    "outputId": "414b2a74-94cd-4186-bea1-7c7d4a4ec9eb"
   },
   "outputs": [],
   "source": [
    "#change the paths according to file locations\n",
    "import json\n",
    "\n",
    "# Define the data\n",
    "data = {\n",
    "    \"train\": [\n",
    "        {\n",
    "            \"root\": \"/cont/aquarium_data/train\",#Train images\n",
    "            \"anno\": \"/cont/input_params/train.jsonl\",#Odvg jsonl file\n",
    "            \"label_map\": \"/cont/input_params/label.json\",# label.json file\n",
    "            \"dataset_mode\": \"odvg\"\n",
    "        }\n",
    "    ],\n",
    "    \"val\": [\n",
    "        {\n",
    "            \"root\": \"/cont/aquarium_data/test\",#Test Images\n",
    "            \"anno\": \"/cont/aquarium_data/test/_annotations.coco.json\",#Test data Annotation file in COCO\n",
    "            \"label_map\": None,\n",
    "            \"dataset_mode\": \"coco\"\n",
    "        }\n",
    "    ]\n",
    "}\n",
    "\n",
    "file_path = '/cont/Open-GroundingDino/config/datasets_mixed_odvg.json'\n",
    "\n",
    "with open(file_path, 'w') as file:\n",
    "    json.dump(data, file, indent=2)\n",
    "\n",
    "print(f\"Data has been written to {file_path}\")\n"
   ]
  },
  {
   "cell_type": "markdown",
   "metadata": {
    "id": "txrHs9jpeXab"
   },
   "source": [
    "### 3. Modifying files according the dataset\n",
    "-  modifying `Open-GroundingDino/config/cfg_coco.py` and `Open-GroundingDino/config/cfg_odvg.py`"
   ]
  },
  {
   "cell_type": "code",
   "execution_count": null,
   "metadata": {
    "colab": {
     "base_uri": "https://localhost:8080/"
    },
    "id": "t6IUNBDtAdWe",
    "outputId": "713d8b19-b2d0-4666-c43e-89419df4771e"
   },
   "outputs": [],
   "source": [
    "import re\n",
    "\n",
    "def modify_file(file_path):\n",
    "    label_list_cont = 'label_list = [\"fish\",\"jellyfish\",\"penguins\",\"sharks\",\"puffins\",\"stingrays\",\"starfish\"]\\n'\n",
    "\n",
    "    # Read the entire cont of the file\n",
    "    with open(file_path, 'r') as file:\n",
    "        cont = file.read()\n",
    "\n",
    "    # Replace use_coco_eval =TRUE with use_coco_eval =FALSE using regex\n",
    "    cont = re.sub(r'use_coco_eval\\s*=\\s*True', 'use_coco_eval = False', cont)\n",
    "\n",
    "    # Insert label_list after use_coco_eval = FALSE using regex\n",
    "    cont = re.sub(r'use_coco_eval\\s*=\\s*False', r'use_coco_eval = False\\n\\n' + label_list_cont, cont, count=1, flags=re.MULTILINE)\n",
    "\n",
    "    # Write the modified cont back to the file\n",
    "    with open(file_path, 'w') as file:\n",
    "        file.write(cont)\n",
    "\n",
    "# Paths to the files\n",
    "cfg_coco_path = '/cont/Open-GroundingDino/config/cfg_coco.py'\n",
    "cfg_odvg_path = '/cont/Open-GroundingDino/config/cfg_odvg.py'\n",
    "\n",
    "# Modify both files\n",
    "modify_file(cfg_coco_path)\n",
    "modify_file(cfg_odvg_path)\n",
    "\n",
    "print(\"Updated use_coco_eval to FALSE and added label_list using regex in both files.\")\n"
   ]
  },
  {
   "cell_type": "code",
   "execution_count": null,
   "metadata": {
    "id": "z1oSfABZZmxn"
   },
   "outputs": [],
   "source": [
    "#make a output directory to store the checkpoints of trained model\n",
    "import os\n",
    "os.makedirs(\"/cont/output\", exist_ok=True)"
   ]
  },
  {
   "cell_type": "markdown",
   "metadata": {
    "id": "PJO1BUXQeXab"
   },
   "source": [
    "#### 4. Download `groundingdino_swint_ogc.pth` and `bert`"
   ]
  },
  {
   "cell_type": "code",
   "execution_count": null,
   "metadata": {
    "colab": {
     "base_uri": "https://localhost:8080/"
    },
    "id": "b5aqGfqseXac",
    "outputId": "c62ec7d1-3450-4fcb-d34c-d34fcd04f10b"
   },
   "outputs": [],
   "source": [
    "!wget https://github.com/IDEA-Research/GroundingDINO/releases/download/v0.1.0-alpha/groundingdino_swint_ogc.pth&ved=2ahUKEwjLqsnAstiGAxVPbGwGHbcOADAQFnoECBYQAQ&usg=AOvVaw1HJopClO4_-MXLi9Ae6-le"
   ]
  },
  {
   "cell_type": "code",
   "execution_count": null,
   "metadata": {
    "id": "5oLmJFXReXac"
   },
   "outputs": [],
   "source": [
    "import os\n",
    "os.makedirs(\"/cont/bert\", exist_ok=True)"
   ]
  },
  {
   "cell_type": "code",
   "execution_count": null,
   "metadata": {
    "colab": {
     "base_uri": "https://localhost:8080/",
     "height": 329,
     "referenced_widgets": [
      "28f9a4cb982b470884f21a4d7e2ceef2",
      "e94a2de41c3c422989754ba3a681f3a3",
      "e3ff8b8343da4066bebd8060c51c84a4",
      "021050a6f5d74e55bb035ecc9fc9440a",
      "01f466b04af64ab986c6ac8c52abb484",
      "3d4bdb0660a54cc784fcf9fe6ba9bd77",
      "73b5740560f144188e75fbec6c125feb",
      "f102a87fa42d42a2bdd980049ae20588",
      "2890c6056b51496a8a3f2bd7bc1bb838",
      "d4e5f63013a344fba5311ae9490121ba",
      "8881140ba40d4b908b3fb1d53e7bdab4",
      "b57b75c827fa4d15b92bfb515f95a894",
      "bec7b898a63e4becbaef13870d130fb4",
      "f1e0b2099292416eb966371bc2163056",
      "0ffddea96af84ac8892dbc03ebf0b531",
      "ab38a5e6e0d34899b1fd38052fb5eb28",
      "f44e939b1cc640afb0f8dd8f400311d8",
      "5af72b3b74b64b969ce6c1fbe49bc6a1",
      "a6bda0e2e00f426798b1eb58e713f0e0",
      "91bdb9af5c2f48bb8a86440e5eb287d1",
      "45de770fe7764d89b1a0bdd41bfa843f",
      "dc42166bed754db58239d6fc9716cc66",
      "46666b967b664383915d2a134dd4913c",
      "0cfab06dff0d4403ba01779ce8d36688",
      "2b4c40227b6e4f6a86beb0b55f97cc46",
      "7c352786b1504c92b9d44fec3bdcd2a6",
      "8fe0fa67fce24921814782095b6f6df6",
      "187721e08bb045b6a15ddc522198b7d1",
      "c8683664d27b424aaf7d4464e50e244f",
      "3af406f142b146ecb525bb4aec0f0864",
      "4e0bff302e10485aa9bf4c8f2d2f8e3e",
      "cbe283c8399c4b9ebd4e2bb98d2d08c5",
      "6db1c274756148759610cc6347a2d00d",
      "0c45581acfcc4f9e83ca5a1b250aafd1",
      "e389055efc9e4b13b9325043b1211071",
      "4c995ef97a5945e1abe5cb8847012903",
      "4c4f1f022ca243e4a136e987de82bea9",
      "fc66406e416b4a1ab047a0cd7c91fa38",
      "b77b054362bc4843a598f1837f298d5b",
      "dae6375e018b42c487630b879bcd32b1",
      "48b752b7421a420a9153391d6bf877a9",
      "b3941a8e60f34bba8f45f6fd99678b52",
      "dc223d2762c2481a83a404a85db77748",
      "6ab06818f6c34d298a9cfd38b7dba28e",
      "e6309ce2731c4bcea28385e7f370dd2f",
      "2a6e571b434140d4bf202864f7d21aa4",
      "fd81dfd2517e4a13a35eeb1625846092",
      "59ec6c992d2840a08616228403e5551d",
      "e8c1e5076f39429897146187daed1b21",
      "c136244e846248ffa1093046a0201d9f",
      "09c4438c66ef40b4b44d18b72473b79b",
      "500d493e9fba488d818da127898b67e0",
      "6db6f3d94c674ac3a9269450d40a7e3f",
      "d705d98917034120a0b758d6fac1661a",
      "96cb3b0508704c84a21540c4a1a6f101"
     ]
    },
    "id": "G39r8YqDeXac",
    "outputId": "3292ee70-48be-44fd-d46e-32ea900d9da6"
   },
   "outputs": [],
   "source": [
    "from transformers import AutoTokenizer, AutoModel\n",
    "\n",
    "# Initialize tokenizer and model\n",
    "tokenizer = AutoTokenizer.from_pretrained(\"bert-base-uncased\")\n",
    "model = AutoModel.from_pretrained(\"bert-base-uncased\")"
   ]
  },
  {
   "cell_type": "code",
   "execution_count": null,
   "metadata": {
    "colab": {
     "base_uri": "https://localhost:8080/"
    },
    "id": "FH_qS3HDeXac",
    "outputId": "1170d474-d7ca-4da6-9915-73057901b123"
   },
   "outputs": [],
   "source": [
    "%cd /cont/bert"
   ]
  },
  {
   "cell_type": "code",
   "execution_count": null,
   "metadata": {
    "colab": {
     "base_uri": "https://localhost:8080/"
    },
    "id": "C6CPtkzqeXac",
    "outputId": "820987d5-42c7-436d-e4b1-a580c00fe61f"
   },
   "outputs": [],
   "source": [
    "print(tokenizer.save_pretrained(\".\"))\n",
    "print(model.save_pretrained(\".\"))"
   ]
  },
  {
   "cell_type": "code",
   "execution_count": null,
   "metadata": {
    "colab": {
     "base_uri": "https://localhost:8080/"
    },
    "id": "nW2DdG5MeXad",
    "outputId": "cbea5553-ef54-49c8-c91b-5c343dfcd345"
   },
   "outputs": [],
   "source": [
    "%cd /cont"
   ]
  },
  {
   "cell_type": "markdown",
   "metadata": {
    "id": "GE5B6WuceXad"
   },
   "source": [
    "### 5. Replacing whole code of `train_dist.sh` with code below to run on single gpu\n",
    "- Add path of groundingdino_swint_ogc.pth and bert folder"
   ]
  },
  {
   "cell_type": "code",
   "execution_count": null,
   "metadata": {
    "colab": {
     "base_uri": "https://localhost:8080/"
    },
    "id": "zK0VTQ5JDpcJ",
    "outputId": "b7efcdf8-ce18-41b5-91da-924fb9913a82"
   },
   "outputs": [],
   "source": [
    "def replace_file_cont(file_path, new_cont):\n",
    "    try:\n",
    "        # Open the file in write mode and replace its cont\n",
    "        with open(file_path, 'w') as file:\n",
    "            file.write(new_cont)\n",
    "        print(f\"Successfully replaced the cont of {file_path}\")\n",
    "    except IOError as e:\n",
    "        print(f\"Error occurred while replacing cont: {e}\")\n",
    "\n",
    "# Define the new cont for the file\n",
    "new_cont = \"\"\"\\\n",
    "CFG=$1\n",
    "DATASETS=$2\n",
    "OUTPUT_DIR=$3\n",
    "\n",
    "# Set the environment variable for CUDA\n",
    "export CUDA_VISIBLE_DEVICES=0\n",
    "\n",
    "python main.py \\\\\n",
    "    --config_file ${CFG} \\\\\n",
    "    --datasets ${DATASETS} \\\\\n",
    "    --output_dir ${OUTPUT_DIR} \\\\\n",
    "    --pretrain_model_path /cont/groundingdino_swint_ogc.pth \\\\\n",
    "    --options text_encoder_type=\"/cont/bert\"\n",
    "\"\"\"\n",
    "\n",
    "# Specify the file path\n",
    "file_path = '/cont/Open-GroundingDino/train_dist.sh'\n",
    "\n",
    "# Call the function to replace the cont\n",
    "replace_file_cont(file_path, new_cont)"
   ]
  },
  {
   "cell_type": "code",
   "execution_count": null,
   "metadata": {
    "colab": {
     "base_uri": "https://localhost:8080/"
    },
    "id": "jgohBTl-eXad",
    "outputId": "2f3c8f1b-a36c-4bda-bb94-61efef29f398"
   },
   "outputs": [],
   "source": [
    "%cd /cont"
   ]
  },
  {
   "cell_type": "markdown",
   "metadata": {
    "id": "dPPlEzf0eXad"
   },
   "source": [
    "### 6. Training the model"
   ]
  },
  {
   "cell_type": "code",
   "execution_count": null,
   "metadata": {
    "colab": {
     "base_uri": "https://localhost:8080/"
    },
    "id": "uajrUI73XzeH",
    "outputId": "fee24091-da84-44a2-f915-2bc1dd3dc905"
   },
   "outputs": [],
   "source": [
    "%cd /cont/Open-GroundingDino\n",
    "GPU_NUM=1\n",
    "CGF=\"/cont/Open-GroundingDino/config/cfg_odvg.py\"\n",
    "DATASETS=\"/cont/Open-GroundingDino/config/datasets_mixed_odvg.json\"\n",
    "OUTPUT_DIR=\"/cont/output\"\n",
    "!chmod +x train_dist.sh\n",
    "!bash train_dist.sh {CGF} {DATASETS} {OUTPUT_DIR}"
   ]
  },
  {
   "cell_type": "markdown",
   "metadata": {
    "id": "nnkDxxnReXae"
   },
   "source": [
    "### 7. Inference on the Data"
   ]
  },
  {
   "cell_type": "code",
   "execution_count": null,
   "metadata": {
    "colab": {
     "base_uri": "https://localhost:8080/"
    },
    "id": "8Mxf8nKcC6AS",
    "outputId": "57f4a1b9-885e-4135-c0ab-23833862a661"
   },
   "outputs": [],
   "source": [
    "%cd /cont\n",
    "!git clone https://github.com/IDEA-Research/GroundingDINO.git"
   ]
  },
  {
   "cell_type": "code",
   "execution_count": null,
   "metadata": {
    "colab": {
     "base_uri": "https://localhost:8080/"
    },
    "id": "YynH_4FxabFk",
    "outputId": "351b03f2-040d-45e1-ec50-09b2e6f18aa9"
   },
   "outputs": [],
   "source": [
    "%cd GroundingDINO/"
   ]
  },
  {
   "cell_type": "code",
   "execution_count": null,
   "metadata": {
    "colab": {
     "base_uri": "https://localhost:8080/"
    },
    "id": "EmSfXVmmaet8",
    "outputId": "1da9eade-26d9-46aa-c370-666362a32fdf"
   },
   "outputs": [],
   "source": [
    "!pip install -e ."
   ]
  },
  {
   "cell_type": "code",
   "execution_count": null,
   "metadata": {
    "colab": {
     "base_uri": "https://localhost:8080/"
    },
    "id": "CXcn4qi2biWd",
    "outputId": "c0338fb0-1f85-4d40-95cc-e0a5b6da0ffc"
   },
   "outputs": [],
   "source": [
    "%cd /cont"
   ]
  },
  {
   "cell_type": "markdown",
   "metadata": {
    "id": "8rrLoSMYeXaf"
   },
   "source": [
    "### 8. Creating a folder for Saving the images"
   ]
  },
  {
   "cell_type": "code",
   "execution_count": null,
   "metadata": {
    "id": "7YQQeX5Wrvhs"
   },
   "outputs": [],
   "source": [
    "import os\n",
    "os.makedirs(\"/cont/allval_images_in_folder\", exist_ok=True)\n"
   ]
  },
  {
   "cell_type": "code",
   "execution_count": null,
   "metadata": {
    "colab": {
     "base_uri": "https://localhost:8080/"
    },
    "id": "ks3xT19IsZwh",
    "outputId": "4f4325ca-2176-43bd-9db7-9fd221f06de2"
   },
   "outputs": [],
   "source": [
    "%cd /cont/allval_images_in_folder"
   ]
  },
  {
   "cell_type": "code",
   "execution_count": null,
   "metadata": {
    "colab": {
     "base_uri": "https://localhost:8080/",
     "height": 56
    },
    "id": "IrEv1k7zr6nl",
    "outputId": "a7ae1b4d-28e9-4205-8abc-acd2c42cc51e"
   },
   "outputs": [],
   "source": [
    "pwd"
   ]
  },
  {
   "cell_type": "markdown",
   "metadata": {
    "id": "YtHYH_oveXag"
   },
   "source": [
    "##### Inference on a single Image"
   ]
  },
  {
   "cell_type": "code",
   "execution_count": null,
   "metadata": {
    "colab": {
     "base_uri": "https://localhost:8080/"
    },
    "id": "62y3A4tYakMy",
    "outputId": "030d464f-0f2b-439d-a477-20946ed26b34"
   },
   "outputs": [],
   "source": [
    "!python \"/cont/Open-GroundingDino/tools/inference_on_a_image.py\" \\\n",
    "  -c \"/cont/Open-GroundingDino/tools/GroundingDINO_SwinT_OGC.py\" \\\n",
    "  -p \"/cont/output/checkpoint0014.pth\" \\\n",
    "  -i \"/cont/aquarium_data/valid/IMG_2277_jpeg_jpg.rf.86c72d6192da48d941ffa957f4780665.jpg\" \\\n",
    "  -t \"fish . jellyfish . penguins . sharks . puffins . stingrays . starfish \" \\\n",
    "  -o pred_images"
   ]
  },
  {
   "cell_type": "code",
   "execution_count": null,
   "metadata": {
    "colab": {
     "base_uri": "https://localhost:8080/",
     "height": 1000
    },
    "id": "LQExyuxbl81l",
    "outputId": "cf3f76c5-d082-427f-85f1-649bc73297c0"
   },
   "outputs": [],
   "source": [
    "from PIL import Image\n",
    "img=Image.open(\"/cont/allval_images_in_folder/pred_images/pred.jpg\")\n",
    "img"
   ]
  },
  {
   "cell_type": "markdown",
   "metadata": {
    "id": "0h4nqzADeXag"
   },
   "source": [
    "##### Inferencing on Val images folder"
   ]
  },
  {
   "cell_type": "code",
   "execution_count": null,
   "metadata": {
    "id": "r_cccjDYrqeA"
   },
   "outputs": [],
   "source": [
    "import os\n",
    "import subprocess\n",
    "\n",
    "# Directory containing the images\n",
    "image_dir = \"/cont/aquarium_data/valid\"\n",
    "# Get a list of all image files in the directory\n",
    "image_files = [f for f in os.listdir(image_dir) if f.endswith('.png') or f.endswith('.jpg')]\n",
    "\n",
    "# Define the other arguments for the inference script\n",
    "config_path = \"/cont/Open-GroundingDino/tools/GroundingDINO_SwinT_OGC.py\"\n",
    "checkpoint_path = \"/cont/output/checkpoint0014.pth\"\n",
    "text_prompts = \"fish . jellyfish . penguins . sharks . puffins . stingrays . starfish \"\n",
    "output_dir = \"pred_images\"\n",
    "\n",
    "# Loop over all image files and run the inference script on each one\n",
    "for image_file in image_files:\n",
    "    image_path = os.path.join(image_dir, image_file)\n",
    "    command = [\n",
    "        \"python\", \"/cont/Open-GroundingDino/tools/inference_on_a_image.py\",\n",
    "        \"-c\", config_path,\n",
    "        \"-p\", checkpoint_path,\n",
    "        \"-i\", image_path,\n",
    "        \"-t\", text_prompts,\n",
    "        \"-o\", output_dir+image_file\n",
    "    ]\n",
    "    subprocess.run(command)"
   ]
  },
  {
   "cell_type": "markdown",
   "metadata": {
    "id": "ZuOLtMLFeXag"
   },
   "source": [
    "##### Organizing Images in a single folder and copying folder to Drive"
   ]
  },
  {
   "cell_type": "code",
   "execution_count": null,
   "metadata": {
    "id": "D8AGA8Y0rTHI"
   },
   "outputs": [],
   "source": [
    "import os\n",
    "os.makedirs(\"/cont/final_val_images\", exist_ok=True)"
   ]
  },
  {
   "cell_type": "code",
   "execution_count": null,
   "metadata": {
    "id": "IgcG1GJ-zZsn"
   },
   "outputs": [],
   "source": [
    "import os\n",
    "import shutil\n",
    "\n",
    "def is_image(file):\n",
    "    image_extensions = ['.png', '.jpg', '.jpeg', '.gif', '.bmp', '.tiff']\n",
    "    return any(file.lower().endswith(ext) for ext in image_extensions)\n",
    "\n",
    "def copy_images(src_dir, dest_dir):\n",
    "    if not os.path.exists(dest_dir):\n",
    "        os.makedirs(dest_dir)\n",
    "\n",
    "    for root, _, files in os.walk(src_dir):\n",
    "        for file in files:\n",
    "            if is_image(file):\n",
    "                src_file_path = os.path.join(root, file)\n",
    "                dest_file_path = os.path.join(dest_dir, file)\n",
    "\n",
    "                # To handle duplicate filenames\n",
    "                if os.path.exists(dest_file_path):\n",
    "                    base, ext = os.path.splitext(file)\n",
    "                    count = 1\n",
    "                    while os.path.exists(dest_file_path):\n",
    "                        dest_file_path = os.path.join(dest_dir, f\"{base}_{count}{ext}\")\n",
    "                        count += 1\n",
    "\n",
    "                shutil.copy2(src_file_path, dest_file_path)\n",
    "                print(f\"Copied {src_file_path} to {dest_file_path}\")\n",
    "\n",
    "# Example usage\n",
    "src_directory = '/cont/allval_images_in_folder'\n",
    "dest_directory = '/cont/final_val_images'\n",
    "copy_images(src_directory, dest_directory)\n"
   ]
  },
  {
   "cell_type": "markdown",
   "metadata": {
    "id": "A4o_KCb9ssg7"
   },
   "source": [
    "##### Visualizing the Annotated Images"
   ]
  },
  {
   "cell_type": "code",
   "execution_count": null,
   "metadata": {
    "colab": {
     "base_uri": "https://localhost:8080/",
     "height": 1000
    },
    "id": "KV139Y7xsZ-u",
    "outputId": "0d379250-2707-4bd9-e016-c6dee8e80afb"
   },
   "outputs": [],
   "source": [
    "import os\n",
    "import random\n",
    "import matplotlib.pyplot as plt\n",
    "from PIL import Image\n",
    "\n",
    "# Path to the folder containing the images\n",
    "folder_path = '/cont/final_val_images'\n",
    "\n",
    "# Get a list of all files in the folder\n",
    "all_files = os.listdir(folder_path)\n",
    "\n",
    "# Filter the list to include only files with image extensions and start with 'pred'\n",
    "image_files = [file for file in all_files if file.lower().endswith(('png', 'jpg', 'jpeg', 'gif', 'bmp')) and file.lower().startswith('pred')]\n",
    "\n",
    "# Randomly select 16 images from the filtered list\n",
    "selected_images = random.sample(image_files, 16)\n",
    "\n",
    "# Set up the plot grid\n",
    "fig, axes = plt.subplots(4, 4, figsize=(10, 10))\n",
    "\n",
    "# Plot each selected image in the grid\n",
    "for ax, image_file in zip(axes.flatten(), selected_images):\n",
    "    # Open the image file\n",
    "    img = Image.open(os.path.join(folder_path, image_file))\n",
    "\n",
    "    # Display the image on the grid\n",
    "    ax.imshow(img)\n",
    "    ax.axis('off')  # Hide the axes\n",
    "\n",
    "# Adjust the layout to be tight\n",
    "plt.tight_layout()\n",
    "\n",
    "# Show the plot\n",
    "plt.show()"
   ]
  },
  {
   "cell_type": "code",
   "execution_count": null,
   "metadata": {
    "id": "rFCdzcdW0D7B"
   },
   "outputs": [],
   "source": [
    "!zip -r /cont/final_val_images.zip /cont/final_val_images"
   ]
  },
  {
   "cell_type": "code",
   "execution_count": null,
   "metadata": {
    "id": "ZxKmu6Nh0WUm"
   },
   "outputs": [],
   "source": [
    "!cp \"/cont/final_val_images.zip\" \"/cont/drive/MyDrive\""
   ]
  }
 ],
 "metadata": {
  "accelerator": "GPU",
  "colab": {
   "gpuType": "L4",
   "include_colab_link": true,
   "provenance": []
  },
  "kernelspec": {
   "display_name": "Python 3 (ipykernel)",
   "language": "python",
   "name": "python3"
  },
  "language_info": {
   "codemirror_mode": {
    "name": "ipython",
    "version": 3
   },
   "file_extension": ".py",
   "mimetype": "text/x-python",
   "name": "python",
   "nbconvert_exporter": "python",
   "pygments_lexer": "ipython3",
   "version": "3.12.4"
  },
  "widgets": {
   "application/vnd.jupyter.widget-state+json": {
    "01f466b04af64ab986c6ac8c52abb484": {
     "model_module": "@jupyter-widgets/base",
     "model_module_version": "1.2.0",
     "model_name": "LayoutModel",
     "state": {
      "_model_module": "@jupyter-widgets/base",
      "_model_module_version": "1.2.0",
      "_model_name": "LayoutModel",
      "_view_count": null,
      "_view_module": "@jupyter-widgets/base",
      "_view_module_version": "1.2.0",
      "_view_name": "LayoutView",
      "align_content": null,
      "align_items": null,
      "align_self": null,
      "border": null,
      "bottom": null,
      "display": null,
      "flex": null,
      "flex_flow": null,
      "grid_area": null,
      "grid_auto_columns": null,
      "grid_auto_flow": null,
      "grid_auto_rows": null,
      "grid_column": null,
      "grid_gap": null,
      "grid_row": null,
      "grid_template_areas": null,
      "grid_template_columns": null,
      "grid_template_rows": null,
      "height": null,
      "justify_content": null,
      "justify_items": null,
      "left": null,
      "margin": null,
      "max_height": null,
      "max_width": null,
      "min_height": null,
      "min_width": null,
      "object_fit": null,
      "object_position": null,
      "order": null,
      "overflow": null,
      "overflow_x": null,
      "overflow_y": null,
      "padding": null,
      "right": null,
      "top": null,
      "visibility": null,
      "width": null
     }
    },
    "021050a6f5d74e55bb035ecc9fc9440a": {
     "model_module": "@jupyter-widgets/controls",
     "model_module_version": "1.5.0",
     "model_name": "HTMLModel",
     "state": {
      "_dom_classes": [],
      "_model_module": "@jupyter-widgets/controls",
      "_model_module_version": "1.5.0",
      "_model_name": "HTMLModel",
      "_view_count": null,
      "_view_module": "@jupyter-widgets/controls",
      "_view_module_version": "1.5.0",
      "_view_name": "HTMLView",
      "description": "",
      "description_tooltip": null,
      "layout": "IPY_MODEL_d4e5f63013a344fba5311ae9490121ba",
      "placeholder": "​",
      "style": "IPY_MODEL_8881140ba40d4b908b3fb1d53e7bdab4",
      "value": " 48.0/48.0 [00:00&lt;00:00, 4.18kB/s]"
     }
    },
    "09c4438c66ef40b4b44d18b72473b79b": {
     "model_module": "@jupyter-widgets/controls",
     "model_module_version": "1.5.0",
     "model_name": "DescriptionStyleModel",
     "state": {
      "_model_module": "@jupyter-widgets/controls",
      "_model_module_version": "1.5.0",
      "_model_name": "DescriptionStyleModel",
      "_view_count": null,
      "_view_module": "@jupyter-widgets/base",
      "_view_module_version": "1.2.0",
      "_view_name": "StyleView",
      "description_width": ""
     }
    },
    "0c45581acfcc4f9e83ca5a1b250aafd1": {
     "model_module": "@jupyter-widgets/controls",
     "model_module_version": "1.5.0",
     "model_name": "HBoxModel",
     "state": {
      "_dom_classes": [],
      "_model_module": "@jupyter-widgets/controls",
      "_model_module_version": "1.5.0",
      "_model_name": "HBoxModel",
      "_view_count": null,
      "_view_module": "@jupyter-widgets/controls",
      "_view_module_version": "1.5.0",
      "_view_name": "HBoxView",
      "box_style": "",
      "children": [
       "IPY_MODEL_e389055efc9e4b13b9325043b1211071",
       "IPY_MODEL_4c995ef97a5945e1abe5cb8847012903",
       "IPY_MODEL_4c4f1f022ca243e4a136e987de82bea9"
      ],
      "layout": "IPY_MODEL_fc66406e416b4a1ab047a0cd7c91fa38"
     }
    },
    "0cfab06dff0d4403ba01779ce8d36688": {
     "model_module": "@jupyter-widgets/controls",
     "model_module_version": "1.5.0",
     "model_name": "HTMLModel",
     "state": {
      "_dom_classes": [],
      "_model_module": "@jupyter-widgets/controls",
      "_model_module_version": "1.5.0",
      "_model_name": "HTMLModel",
      "_view_count": null,
      "_view_module": "@jupyter-widgets/controls",
      "_view_module_version": "1.5.0",
      "_view_name": "HTMLView",
      "description": "",
      "description_tooltip": null,
      "layout": "IPY_MODEL_187721e08bb045b6a15ddc522198b7d1",
      "placeholder": "​",
      "style": "IPY_MODEL_c8683664d27b424aaf7d4464e50e244f",
      "value": "vocab.txt: 100%"
     }
    },
    "0ffddea96af84ac8892dbc03ebf0b531": {
     "model_module": "@jupyter-widgets/controls",
     "model_module_version": "1.5.0",
     "model_name": "HTMLModel",
     "state": {
      "_dom_classes": [],
      "_model_module": "@jupyter-widgets/controls",
      "_model_module_version": "1.5.0",
      "_model_name": "HTMLModel",
      "_view_count": null,
      "_view_module": "@jupyter-widgets/controls",
      "_view_module_version": "1.5.0",
      "_view_name": "HTMLView",
      "description": "",
      "description_tooltip": null,
      "layout": "IPY_MODEL_45de770fe7764d89b1a0bdd41bfa843f",
      "placeholder": "​",
      "style": "IPY_MODEL_dc42166bed754db58239d6fc9716cc66",
      "value": " 570/570 [00:00&lt;00:00, 50.4kB/s]"
     }
    },
    "187721e08bb045b6a15ddc522198b7d1": {
     "model_module": "@jupyter-widgets/base",
     "model_module_version": "1.2.0",
     "model_name": "LayoutModel",
     "state": {
      "_model_module": "@jupyter-widgets/base",
      "_model_module_version": "1.2.0",
      "_model_name": "LayoutModel",
      "_view_count": null,
      "_view_module": "@jupyter-widgets/base",
      "_view_module_version": "1.2.0",
      "_view_name": "LayoutView",
      "align_content": null,
      "align_items": null,
      "align_self": null,
      "border": null,
      "bottom": null,
      "display": null,
      "flex": null,
      "flex_flow": null,
      "grid_area": null,
      "grid_auto_columns": null,
      "grid_auto_flow": null,
      "grid_auto_rows": null,
      "grid_column": null,
      "grid_gap": null,
      "grid_row": null,
      "grid_template_areas": null,
      "grid_template_columns": null,
      "grid_template_rows": null,
      "height": null,
      "justify_content": null,
      "justify_items": null,
      "left": null,
      "margin": null,
      "max_height": null,
      "max_width": null,
      "min_height": null,
      "min_width": null,
      "object_fit": null,
      "object_position": null,
      "order": null,
      "overflow": null,
      "overflow_x": null,
      "overflow_y": null,
      "padding": null,
      "right": null,
      "top": null,
      "visibility": null,
      "width": null
     }
    },
    "2890c6056b51496a8a3f2bd7bc1bb838": {
     "model_module": "@jupyter-widgets/controls",
     "model_module_version": "1.5.0",
     "model_name": "ProgressStyleModel",
     "state": {
      "_model_module": "@jupyter-widgets/controls",
      "_model_module_version": "1.5.0",
      "_model_name": "ProgressStyleModel",
      "_view_count": null,
      "_view_module": "@jupyter-widgets/base",
      "_view_module_version": "1.2.0",
      "_view_name": "StyleView",
      "bar_color": null,
      "description_width": ""
     }
    },
    "28f9a4cb982b470884f21a4d7e2ceef2": {
     "model_module": "@jupyter-widgets/controls",
     "model_module_version": "1.5.0",
     "model_name": "HBoxModel",
     "state": {
      "_dom_classes": [],
      "_model_module": "@jupyter-widgets/controls",
      "_model_module_version": "1.5.0",
      "_model_name": "HBoxModel",
      "_view_count": null,
      "_view_module": "@jupyter-widgets/controls",
      "_view_module_version": "1.5.0",
      "_view_name": "HBoxView",
      "box_style": "",
      "children": [
       "IPY_MODEL_e94a2de41c3c422989754ba3a681f3a3",
       "IPY_MODEL_e3ff8b8343da4066bebd8060c51c84a4",
       "IPY_MODEL_021050a6f5d74e55bb035ecc9fc9440a"
      ],
      "layout": "IPY_MODEL_01f466b04af64ab986c6ac8c52abb484"
     }
    },
    "2a6e571b434140d4bf202864f7d21aa4": {
     "model_module": "@jupyter-widgets/controls",
     "model_module_version": "1.5.0",
     "model_name": "HTMLModel",
     "state": {
      "_dom_classes": [],
      "_model_module": "@jupyter-widgets/controls",
      "_model_module_version": "1.5.0",
      "_model_name": "HTMLModel",
      "_view_count": null,
      "_view_module": "@jupyter-widgets/controls",
      "_view_module_version": "1.5.0",
      "_view_name": "HTMLView",
      "description": "",
      "description_tooltip": null,
      "layout": "IPY_MODEL_c136244e846248ffa1093046a0201d9f",
      "placeholder": "​",
      "style": "IPY_MODEL_09c4438c66ef40b4b44d18b72473b79b",
      "value": "model.safetensors: 100%"
     }
    },
    "2b4c40227b6e4f6a86beb0b55f97cc46": {
     "model_module": "@jupyter-widgets/controls",
     "model_module_version": "1.5.0",
     "model_name": "FloatProgressModel",
     "state": {
      "_dom_classes": [],
      "_model_module": "@jupyter-widgets/controls",
      "_model_module_version": "1.5.0",
      "_model_name": "FloatProgressModel",
      "_view_count": null,
      "_view_module": "@jupyter-widgets/controls",
      "_view_module_version": "1.5.0",
      "_view_name": "ProgressView",
      "bar_style": "success",
      "description": "",
      "description_tooltip": null,
      "layout": "IPY_MODEL_3af406f142b146ecb525bb4aec0f0864",
      "max": 231508,
      "min": 0,
      "orientation": "horizontal",
      "style": "IPY_MODEL_4e0bff302e10485aa9bf4c8f2d2f8e3e",
      "value": 231508
     }
    },
    "3af406f142b146ecb525bb4aec0f0864": {
     "model_module": "@jupyter-widgets/base",
     "model_module_version": "1.2.0",
     "model_name": "LayoutModel",
     "state": {
      "_model_module": "@jupyter-widgets/base",
      "_model_module_version": "1.2.0",
      "_model_name": "LayoutModel",
      "_view_count": null,
      "_view_module": "@jupyter-widgets/base",
      "_view_module_version": "1.2.0",
      "_view_name": "LayoutView",
      "align_content": null,
      "align_items": null,
      "align_self": null,
      "border": null,
      "bottom": null,
      "display": null,
      "flex": null,
      "flex_flow": null,
      "grid_area": null,
      "grid_auto_columns": null,
      "grid_auto_flow": null,
      "grid_auto_rows": null,
      "grid_column": null,
      "grid_gap": null,
      "grid_row": null,
      "grid_template_areas": null,
      "grid_template_columns": null,
      "grid_template_rows": null,
      "height": null,
      "justify_content": null,
      "justify_items": null,
      "left": null,
      "margin": null,
      "max_height": null,
      "max_width": null,
      "min_height": null,
      "min_width": null,
      "object_fit": null,
      "object_position": null,
      "order": null,
      "overflow": null,
      "overflow_x": null,
      "overflow_y": null,
      "padding": null,
      "right": null,
      "top": null,
      "visibility": null,
      "width": null
     }
    },
    "3d4bdb0660a54cc784fcf9fe6ba9bd77": {
     "model_module": "@jupyter-widgets/base",
     "model_module_version": "1.2.0",
     "model_name": "LayoutModel",
     "state": {
      "_model_module": "@jupyter-widgets/base",
      "_model_module_version": "1.2.0",
      "_model_name": "LayoutModel",
      "_view_count": null,
      "_view_module": "@jupyter-widgets/base",
      "_view_module_version": "1.2.0",
      "_view_name": "LayoutView",
      "align_content": null,
      "align_items": null,
      "align_self": null,
      "border": null,
      "bottom": null,
      "display": null,
      "flex": null,
      "flex_flow": null,
      "grid_area": null,
      "grid_auto_columns": null,
      "grid_auto_flow": null,
      "grid_auto_rows": null,
      "grid_column": null,
      "grid_gap": null,
      "grid_row": null,
      "grid_template_areas": null,
      "grid_template_columns": null,
      "grid_template_rows": null,
      "height": null,
      "justify_content": null,
      "justify_items": null,
      "left": null,
      "margin": null,
      "max_height": null,
      "max_width": null,
      "min_height": null,
      "min_width": null,
      "object_fit": null,
      "object_position": null,
      "order": null,
      "overflow": null,
      "overflow_x": null,
      "overflow_y": null,
      "padding": null,
      "right": null,
      "top": null,
      "visibility": null,
      "width": null
     }
    },
    "45de770fe7764d89b1a0bdd41bfa843f": {
     "model_module": "@jupyter-widgets/base",
     "model_module_version": "1.2.0",
     "model_name": "LayoutModel",
     "state": {
      "_model_module": "@jupyter-widgets/base",
      "_model_module_version": "1.2.0",
      "_model_name": "LayoutModel",
      "_view_count": null,
      "_view_module": "@jupyter-widgets/base",
      "_view_module_version": "1.2.0",
      "_view_name": "LayoutView",
      "align_content": null,
      "align_items": null,
      "align_self": null,
      "border": null,
      "bottom": null,
      "display": null,
      "flex": null,
      "flex_flow": null,
      "grid_area": null,
      "grid_auto_columns": null,
      "grid_auto_flow": null,
      "grid_auto_rows": null,
      "grid_column": null,
      "grid_gap": null,
      "grid_row": null,
      "grid_template_areas": null,
      "grid_template_columns": null,
      "grid_template_rows": null,
      "height": null,
      "justify_content": null,
      "justify_items": null,
      "left": null,
      "margin": null,
      "max_height": null,
      "max_width": null,
      "min_height": null,
      "min_width": null,
      "object_fit": null,
      "object_position": null,
      "order": null,
      "overflow": null,
      "overflow_x": null,
      "overflow_y": null,
      "padding": null,
      "right": null,
      "top": null,
      "visibility": null,
      "width": null
     }
    },
    "46666b967b664383915d2a134dd4913c": {
     "model_module": "@jupyter-widgets/controls",
     "model_module_version": "1.5.0",
     "model_name": "HBoxModel",
     "state": {
      "_dom_classes": [],
      "_model_module": "@jupyter-widgets/controls",
      "_model_module_version": "1.5.0",
      "_model_name": "HBoxModel",
      "_view_count": null,
      "_view_module": "@jupyter-widgets/controls",
      "_view_module_version": "1.5.0",
      "_view_name": "HBoxView",
      "box_style": "",
      "children": [
       "IPY_MODEL_0cfab06dff0d4403ba01779ce8d36688",
       "IPY_MODEL_2b4c40227b6e4f6a86beb0b55f97cc46",
       "IPY_MODEL_7c352786b1504c92b9d44fec3bdcd2a6"
      ],
      "layout": "IPY_MODEL_8fe0fa67fce24921814782095b6f6df6"
     }
    },
    "48b752b7421a420a9153391d6bf877a9": {
     "model_module": "@jupyter-widgets/base",
     "model_module_version": "1.2.0",
     "model_name": "LayoutModel",
     "state": {
      "_model_module": "@jupyter-widgets/base",
      "_model_module_version": "1.2.0",
      "_model_name": "LayoutModel",
      "_view_count": null,
      "_view_module": "@jupyter-widgets/base",
      "_view_module_version": "1.2.0",
      "_view_name": "LayoutView",
      "align_content": null,
      "align_items": null,
      "align_self": null,
      "border": null,
      "bottom": null,
      "display": null,
      "flex": null,
      "flex_flow": null,
      "grid_area": null,
      "grid_auto_columns": null,
      "grid_auto_flow": null,
      "grid_auto_rows": null,
      "grid_column": null,
      "grid_gap": null,
      "grid_row": null,
      "grid_template_areas": null,
      "grid_template_columns": null,
      "grid_template_rows": null,
      "height": null,
      "justify_content": null,
      "justify_items": null,
      "left": null,
      "margin": null,
      "max_height": null,
      "max_width": null,
      "min_height": null,
      "min_width": null,
      "object_fit": null,
      "object_position": null,
      "order": null,
      "overflow": null,
      "overflow_x": null,
      "overflow_y": null,
      "padding": null,
      "right": null,
      "top": null,
      "visibility": null,
      "width": null
     }
    },
    "4c4f1f022ca243e4a136e987de82bea9": {
     "model_module": "@jupyter-widgets/controls",
     "model_module_version": "1.5.0",
     "model_name": "HTMLModel",
     "state": {
      "_dom_classes": [],
      "_model_module": "@jupyter-widgets/controls",
      "_model_module_version": "1.5.0",
      "_model_name": "HTMLModel",
      "_view_count": null,
      "_view_module": "@jupyter-widgets/controls",
      "_view_module_version": "1.5.0",
      "_view_name": "HTMLView",
      "description": "",
      "description_tooltip": null,
      "layout": "IPY_MODEL_dc223d2762c2481a83a404a85db77748",
      "placeholder": "​",
      "style": "IPY_MODEL_6ab06818f6c34d298a9cfd38b7dba28e",
      "value": " 466k/466k [00:00&lt;00:00, 2.16MB/s]"
     }
    },
    "4c995ef97a5945e1abe5cb8847012903": {
     "model_module": "@jupyter-widgets/controls",
     "model_module_version": "1.5.0",
     "model_name": "FloatProgressModel",
     "state": {
      "_dom_classes": [],
      "_model_module": "@jupyter-widgets/controls",
      "_model_module_version": "1.5.0",
      "_model_name": "FloatProgressModel",
      "_view_count": null,
      "_view_module": "@jupyter-widgets/controls",
      "_view_module_version": "1.5.0",
      "_view_name": "ProgressView",
      "bar_style": "success",
      "description": "",
      "description_tooltip": null,
      "layout": "IPY_MODEL_48b752b7421a420a9153391d6bf877a9",
      "max": 466062,
      "min": 0,
      "orientation": "horizontal",
      "style": "IPY_MODEL_b3941a8e60f34bba8f45f6fd99678b52",
      "value": 466062
     }
    },
    "4e0bff302e10485aa9bf4c8f2d2f8e3e": {
     "model_module": "@jupyter-widgets/controls",
     "model_module_version": "1.5.0",
     "model_name": "ProgressStyleModel",
     "state": {
      "_model_module": "@jupyter-widgets/controls",
      "_model_module_version": "1.5.0",
      "_model_name": "ProgressStyleModel",
      "_view_count": null,
      "_view_module": "@jupyter-widgets/base",
      "_view_module_version": "1.2.0",
      "_view_name": "StyleView",
      "bar_color": null,
      "description_width": ""
     }
    },
    "500d493e9fba488d818da127898b67e0": {
     "model_module": "@jupyter-widgets/base",
     "model_module_version": "1.2.0",
     "model_name": "LayoutModel",
     "state": {
      "_model_module": "@jupyter-widgets/base",
      "_model_module_version": "1.2.0",
      "_model_name": "LayoutModel",
      "_view_count": null,
      "_view_module": "@jupyter-widgets/base",
      "_view_module_version": "1.2.0",
      "_view_name": "LayoutView",
      "align_content": null,
      "align_items": null,
      "align_self": null,
      "border": null,
      "bottom": null,
      "display": null,
      "flex": null,
      "flex_flow": null,
      "grid_area": null,
      "grid_auto_columns": null,
      "grid_auto_flow": null,
      "grid_auto_rows": null,
      "grid_column": null,
      "grid_gap": null,
      "grid_row": null,
      "grid_template_areas": null,
      "grid_template_columns": null,
      "grid_template_rows": null,
      "height": null,
      "justify_content": null,
      "justify_items": null,
      "left": null,
      "margin": null,
      "max_height": null,
      "max_width": null,
      "min_height": null,
      "min_width": null,
      "object_fit": null,
      "object_position": null,
      "order": null,
      "overflow": null,
      "overflow_x": null,
      "overflow_y": null,
      "padding": null,
      "right": null,
      "top": null,
      "visibility": null,
      "width": null
     }
    },
    "59ec6c992d2840a08616228403e5551d": {
     "model_module": "@jupyter-widgets/controls",
     "model_module_version": "1.5.0",
     "model_name": "HTMLModel",
     "state": {
      "_dom_classes": [],
      "_model_module": "@jupyter-widgets/controls",
      "_model_module_version": "1.5.0",
      "_model_name": "HTMLModel",
      "_view_count": null,
      "_view_module": "@jupyter-widgets/controls",
      "_view_module_version": "1.5.0",
      "_view_name": "HTMLView",
      "description": "",
      "description_tooltip": null,
      "layout": "IPY_MODEL_d705d98917034120a0b758d6fac1661a",
      "placeholder": "​",
      "style": "IPY_MODEL_96cb3b0508704c84a21540c4a1a6f101",
      "value": " 440M/440M [00:01&lt;00:00, 493MB/s]"
     }
    },
    "5af72b3b74b64b969ce6c1fbe49bc6a1": {
     "model_module": "@jupyter-widgets/controls",
     "model_module_version": "1.5.0",
     "model_name": "DescriptionStyleModel",
     "state": {
      "_model_module": "@jupyter-widgets/controls",
      "_model_module_version": "1.5.0",
      "_model_name": "DescriptionStyleModel",
      "_view_count": null,
      "_view_module": "@jupyter-widgets/base",
      "_view_module_version": "1.2.0",
      "_view_name": "StyleView",
      "description_width": ""
     }
    },
    "6ab06818f6c34d298a9cfd38b7dba28e": {
     "model_module": "@jupyter-widgets/controls",
     "model_module_version": "1.5.0",
     "model_name": "DescriptionStyleModel",
     "state": {
      "_model_module": "@jupyter-widgets/controls",
      "_model_module_version": "1.5.0",
      "_model_name": "DescriptionStyleModel",
      "_view_count": null,
      "_view_module": "@jupyter-widgets/base",
      "_view_module_version": "1.2.0",
      "_view_name": "StyleView",
      "description_width": ""
     }
    },
    "6db1c274756148759610cc6347a2d00d": {
     "model_module": "@jupyter-widgets/controls",
     "model_module_version": "1.5.0",
     "model_name": "DescriptionStyleModel",
     "state": {
      "_model_module": "@jupyter-widgets/controls",
      "_model_module_version": "1.5.0",
      "_model_name": "DescriptionStyleModel",
      "_view_count": null,
      "_view_module": "@jupyter-widgets/base",
      "_view_module_version": "1.2.0",
      "_view_name": "StyleView",
      "description_width": ""
     }
    },
    "6db6f3d94c674ac3a9269450d40a7e3f": {
     "model_module": "@jupyter-widgets/controls",
     "model_module_version": "1.5.0",
     "model_name": "ProgressStyleModel",
     "state": {
      "_model_module": "@jupyter-widgets/controls",
      "_model_module_version": "1.5.0",
      "_model_name": "ProgressStyleModel",
      "_view_count": null,
      "_view_module": "@jupyter-widgets/base",
      "_view_module_version": "1.2.0",
      "_view_name": "StyleView",
      "bar_color": null,
      "description_width": ""
     }
    },
    "73b5740560f144188e75fbec6c125feb": {
     "model_module": "@jupyter-widgets/controls",
     "model_module_version": "1.5.0",
     "model_name": "DescriptionStyleModel",
     "state": {
      "_model_module": "@jupyter-widgets/controls",
      "_model_module_version": "1.5.0",
      "_model_name": "DescriptionStyleModel",
      "_view_count": null,
      "_view_module": "@jupyter-widgets/base",
      "_view_module_version": "1.2.0",
      "_view_name": "StyleView",
      "description_width": ""
     }
    },
    "7c352786b1504c92b9d44fec3bdcd2a6": {
     "model_module": "@jupyter-widgets/controls",
     "model_module_version": "1.5.0",
     "model_name": "HTMLModel",
     "state": {
      "_dom_classes": [],
      "_model_module": "@jupyter-widgets/controls",
      "_model_module_version": "1.5.0",
      "_model_name": "HTMLModel",
      "_view_count": null,
      "_view_module": "@jupyter-widgets/controls",
      "_view_module_version": "1.5.0",
      "_view_name": "HTMLView",
      "description": "",
      "description_tooltip": null,
      "layout": "IPY_MODEL_cbe283c8399c4b9ebd4e2bb98d2d08c5",
      "placeholder": "​",
      "style": "IPY_MODEL_6db1c274756148759610cc6347a2d00d",
      "value": " 232k/232k [00:00&lt;00:00, 13.5MB/s]"
     }
    },
    "8881140ba40d4b908b3fb1d53e7bdab4": {
     "model_module": "@jupyter-widgets/controls",
     "model_module_version": "1.5.0",
     "model_name": "DescriptionStyleModel",
     "state": {
      "_model_module": "@jupyter-widgets/controls",
      "_model_module_version": "1.5.0",
      "_model_name": "DescriptionStyleModel",
      "_view_count": null,
      "_view_module": "@jupyter-widgets/base",
      "_view_module_version": "1.2.0",
      "_view_name": "StyleView",
      "description_width": ""
     }
    },
    "8fe0fa67fce24921814782095b6f6df6": {
     "model_module": "@jupyter-widgets/base",
     "model_module_version": "1.2.0",
     "model_name": "LayoutModel",
     "state": {
      "_model_module": "@jupyter-widgets/base",
      "_model_module_version": "1.2.0",
      "_model_name": "LayoutModel",
      "_view_count": null,
      "_view_module": "@jupyter-widgets/base",
      "_view_module_version": "1.2.0",
      "_view_name": "LayoutView",
      "align_content": null,
      "align_items": null,
      "align_self": null,
      "border": null,
      "bottom": null,
      "display": null,
      "flex": null,
      "flex_flow": null,
      "grid_area": null,
      "grid_auto_columns": null,
      "grid_auto_flow": null,
      "grid_auto_rows": null,
      "grid_column": null,
      "grid_gap": null,
      "grid_row": null,
      "grid_template_areas": null,
      "grid_template_columns": null,
      "grid_template_rows": null,
      "height": null,
      "justify_content": null,
      "justify_items": null,
      "left": null,
      "margin": null,
      "max_height": null,
      "max_width": null,
      "min_height": null,
      "min_width": null,
      "object_fit": null,
      "object_position": null,
      "order": null,
      "overflow": null,
      "overflow_x": null,
      "overflow_y": null,
      "padding": null,
      "right": null,
      "top": null,
      "visibility": null,
      "width": null
     }
    },
    "91bdb9af5c2f48bb8a86440e5eb287d1": {
     "model_module": "@jupyter-widgets/controls",
     "model_module_version": "1.5.0",
     "model_name": "ProgressStyleModel",
     "state": {
      "_model_module": "@jupyter-widgets/controls",
      "_model_module_version": "1.5.0",
      "_model_name": "ProgressStyleModel",
      "_view_count": null,
      "_view_module": "@jupyter-widgets/base",
      "_view_module_version": "1.2.0",
      "_view_name": "StyleView",
      "bar_color": null,
      "description_width": ""
     }
    },
    "96cb3b0508704c84a21540c4a1a6f101": {
     "model_module": "@jupyter-widgets/controls",
     "model_module_version": "1.5.0",
     "model_name": "DescriptionStyleModel",
     "state": {
      "_model_module": "@jupyter-widgets/controls",
      "_model_module_version": "1.5.0",
      "_model_name": "DescriptionStyleModel",
      "_view_count": null,
      "_view_module": "@jupyter-widgets/base",
      "_view_module_version": "1.2.0",
      "_view_name": "StyleView",
      "description_width": ""
     }
    },
    "a6bda0e2e00f426798b1eb58e713f0e0": {
     "model_module": "@jupyter-widgets/base",
     "model_module_version": "1.2.0",
     "model_name": "LayoutModel",
     "state": {
      "_model_module": "@jupyter-widgets/base",
      "_model_module_version": "1.2.0",
      "_model_name": "LayoutModel",
      "_view_count": null,
      "_view_module": "@jupyter-widgets/base",
      "_view_module_version": "1.2.0",
      "_view_name": "LayoutView",
      "align_content": null,
      "align_items": null,
      "align_self": null,
      "border": null,
      "bottom": null,
      "display": null,
      "flex": null,
      "flex_flow": null,
      "grid_area": null,
      "grid_auto_columns": null,
      "grid_auto_flow": null,
      "grid_auto_rows": null,
      "grid_column": null,
      "grid_gap": null,
      "grid_row": null,
      "grid_template_areas": null,
      "grid_template_columns": null,
      "grid_template_rows": null,
      "height": null,
      "justify_content": null,
      "justify_items": null,
      "left": null,
      "margin": null,
      "max_height": null,
      "max_width": null,
      "min_height": null,
      "min_width": null,
      "object_fit": null,
      "object_position": null,
      "order": null,
      "overflow": null,
      "overflow_x": null,
      "overflow_y": null,
      "padding": null,
      "right": null,
      "top": null,
      "visibility": null,
      "width": null
     }
    },
    "ab38a5e6e0d34899b1fd38052fb5eb28": {
     "model_module": "@jupyter-widgets/base",
     "model_module_version": "1.2.0",
     "model_name": "LayoutModel",
     "state": {
      "_model_module": "@jupyter-widgets/base",
      "_model_module_version": "1.2.0",
      "_model_name": "LayoutModel",
      "_view_count": null,
      "_view_module": "@jupyter-widgets/base",
      "_view_module_version": "1.2.0",
      "_view_name": "LayoutView",
      "align_content": null,
      "align_items": null,
      "align_self": null,
      "border": null,
      "bottom": null,
      "display": null,
      "flex": null,
      "flex_flow": null,
      "grid_area": null,
      "grid_auto_columns": null,
      "grid_auto_flow": null,
      "grid_auto_rows": null,
      "grid_column": null,
      "grid_gap": null,
      "grid_row": null,
      "grid_template_areas": null,
      "grid_template_columns": null,
      "grid_template_rows": null,
      "height": null,
      "justify_content": null,
      "justify_items": null,
      "left": null,
      "margin": null,
      "max_height": null,
      "max_width": null,
      "min_height": null,
      "min_width": null,
      "object_fit": null,
      "object_position": null,
      "order": null,
      "overflow": null,
      "overflow_x": null,
      "overflow_y": null,
      "padding": null,
      "right": null,
      "top": null,
      "visibility": null,
      "width": null
     }
    },
    "b3941a8e60f34bba8f45f6fd99678b52": {
     "model_module": "@jupyter-widgets/controls",
     "model_module_version": "1.5.0",
     "model_name": "ProgressStyleModel",
     "state": {
      "_model_module": "@jupyter-widgets/controls",
      "_model_module_version": "1.5.0",
      "_model_name": "ProgressStyleModel",
      "_view_count": null,
      "_view_module": "@jupyter-widgets/base",
      "_view_module_version": "1.2.0",
      "_view_name": "StyleView",
      "bar_color": null,
      "description_width": ""
     }
    },
    "b57b75c827fa4d15b92bfb515f95a894": {
     "model_module": "@jupyter-widgets/controls",
     "model_module_version": "1.5.0",
     "model_name": "HBoxModel",
     "state": {
      "_dom_classes": [],
      "_model_module": "@jupyter-widgets/controls",
      "_model_module_version": "1.5.0",
      "_model_name": "HBoxModel",
      "_view_count": null,
      "_view_module": "@jupyter-widgets/controls",
      "_view_module_version": "1.5.0",
      "_view_name": "HBoxView",
      "box_style": "",
      "children": [
       "IPY_MODEL_bec7b898a63e4becbaef13870d130fb4",
       "IPY_MODEL_f1e0b2099292416eb966371bc2163056",
       "IPY_MODEL_0ffddea96af84ac8892dbc03ebf0b531"
      ],
      "layout": "IPY_MODEL_ab38a5e6e0d34899b1fd38052fb5eb28"
     }
    },
    "b77b054362bc4843a598f1837f298d5b": {
     "model_module": "@jupyter-widgets/base",
     "model_module_version": "1.2.0",
     "model_name": "LayoutModel",
     "state": {
      "_model_module": "@jupyter-widgets/base",
      "_model_module_version": "1.2.0",
      "_model_name": "LayoutModel",
      "_view_count": null,
      "_view_module": "@jupyter-widgets/base",
      "_view_module_version": "1.2.0",
      "_view_name": "LayoutView",
      "align_content": null,
      "align_items": null,
      "align_self": null,
      "border": null,
      "bottom": null,
      "display": null,
      "flex": null,
      "flex_flow": null,
      "grid_area": null,
      "grid_auto_columns": null,
      "grid_auto_flow": null,
      "grid_auto_rows": null,
      "grid_column": null,
      "grid_gap": null,
      "grid_row": null,
      "grid_template_areas": null,
      "grid_template_columns": null,
      "grid_template_rows": null,
      "height": null,
      "justify_content": null,
      "justify_items": null,
      "left": null,
      "margin": null,
      "max_height": null,
      "max_width": null,
      "min_height": null,
      "min_width": null,
      "object_fit": null,
      "object_position": null,
      "order": null,
      "overflow": null,
      "overflow_x": null,
      "overflow_y": null,
      "padding": null,
      "right": null,
      "top": null,
      "visibility": null,
      "width": null
     }
    },
    "bec7b898a63e4becbaef13870d130fb4": {
     "model_module": "@jupyter-widgets/controls",
     "model_module_version": "1.5.0",
     "model_name": "HTMLModel",
     "state": {
      "_dom_classes": [],
      "_model_module": "@jupyter-widgets/controls",
      "_model_module_version": "1.5.0",
      "_model_name": "HTMLModel",
      "_view_count": null,
      "_view_module": "@jupyter-widgets/controls",
      "_view_module_version": "1.5.0",
      "_view_name": "HTMLView",
      "description": "",
      "description_tooltip": null,
      "layout": "IPY_MODEL_f44e939b1cc640afb0f8dd8f400311d8",
      "placeholder": "​",
      "style": "IPY_MODEL_5af72b3b74b64b969ce6c1fbe49bc6a1",
      "value": "config.json: 100%"
     }
    },
    "c136244e846248ffa1093046a0201d9f": {
     "model_module": "@jupyter-widgets/base",
     "model_module_version": "1.2.0",
     "model_name": "LayoutModel",
     "state": {
      "_model_module": "@jupyter-widgets/base",
      "_model_module_version": "1.2.0",
      "_model_name": "LayoutModel",
      "_view_count": null,
      "_view_module": "@jupyter-widgets/base",
      "_view_module_version": "1.2.0",
      "_view_name": "LayoutView",
      "align_content": null,
      "align_items": null,
      "align_self": null,
      "border": null,
      "bottom": null,
      "display": null,
      "flex": null,
      "flex_flow": null,
      "grid_area": null,
      "grid_auto_columns": null,
      "grid_auto_flow": null,
      "grid_auto_rows": null,
      "grid_column": null,
      "grid_gap": null,
      "grid_row": null,
      "grid_template_areas": null,
      "grid_template_columns": null,
      "grid_template_rows": null,
      "height": null,
      "justify_content": null,
      "justify_items": null,
      "left": null,
      "margin": null,
      "max_height": null,
      "max_width": null,
      "min_height": null,
      "min_width": null,
      "object_fit": null,
      "object_position": null,
      "order": null,
      "overflow": null,
      "overflow_x": null,
      "overflow_y": null,
      "padding": null,
      "right": null,
      "top": null,
      "visibility": null,
      "width": null
     }
    },
    "c8683664d27b424aaf7d4464e50e244f": {
     "model_module": "@jupyter-widgets/controls",
     "model_module_version": "1.5.0",
     "model_name": "DescriptionStyleModel",
     "state": {
      "_model_module": "@jupyter-widgets/controls",
      "_model_module_version": "1.5.0",
      "_model_name": "DescriptionStyleModel",
      "_view_count": null,
      "_view_module": "@jupyter-widgets/base",
      "_view_module_version": "1.2.0",
      "_view_name": "StyleView",
      "description_width": ""
     }
    },
    "cbe283c8399c4b9ebd4e2bb98d2d08c5": {
     "model_module": "@jupyter-widgets/base",
     "model_module_version": "1.2.0",
     "model_name": "LayoutModel",
     "state": {
      "_model_module": "@jupyter-widgets/base",
      "_model_module_version": "1.2.0",
      "_model_name": "LayoutModel",
      "_view_count": null,
      "_view_module": "@jupyter-widgets/base",
      "_view_module_version": "1.2.0",
      "_view_name": "LayoutView",
      "align_content": null,
      "align_items": null,
      "align_self": null,
      "border": null,
      "bottom": null,
      "display": null,
      "flex": null,
      "flex_flow": null,
      "grid_area": null,
      "grid_auto_columns": null,
      "grid_auto_flow": null,
      "grid_auto_rows": null,
      "grid_column": null,
      "grid_gap": null,
      "grid_row": null,
      "grid_template_areas": null,
      "grid_template_columns": null,
      "grid_template_rows": null,
      "height": null,
      "justify_content": null,
      "justify_items": null,
      "left": null,
      "margin": null,
      "max_height": null,
      "max_width": null,
      "min_height": null,
      "min_width": null,
      "object_fit": null,
      "object_position": null,
      "order": null,
      "overflow": null,
      "overflow_x": null,
      "overflow_y": null,
      "padding": null,
      "right": null,
      "top": null,
      "visibility": null,
      "width": null
     }
    },
    "d4e5f63013a344fba5311ae9490121ba": {
     "model_module": "@jupyter-widgets/base",
     "model_module_version": "1.2.0",
     "model_name": "LayoutModel",
     "state": {
      "_model_module": "@jupyter-widgets/base",
      "_model_module_version": "1.2.0",
      "_model_name": "LayoutModel",
      "_view_count": null,
      "_view_module": "@jupyter-widgets/base",
      "_view_module_version": "1.2.0",
      "_view_name": "LayoutView",
      "align_content": null,
      "align_items": null,
      "align_self": null,
      "border": null,
      "bottom": null,
      "display": null,
      "flex": null,
      "flex_flow": null,
      "grid_area": null,
      "grid_auto_columns": null,
      "grid_auto_flow": null,
      "grid_auto_rows": null,
      "grid_column": null,
      "grid_gap": null,
      "grid_row": null,
      "grid_template_areas": null,
      "grid_template_columns": null,
      "grid_template_rows": null,
      "height": null,
      "justify_content": null,
      "justify_items": null,
      "left": null,
      "margin": null,
      "max_height": null,
      "max_width": null,
      "min_height": null,
      "min_width": null,
      "object_fit": null,
      "object_position": null,
      "order": null,
      "overflow": null,
      "overflow_x": null,
      "overflow_y": null,
      "padding": null,
      "right": null,
      "top": null,
      "visibility": null,
      "width": null
     }
    },
    "d705d98917034120a0b758d6fac1661a": {
     "model_module": "@jupyter-widgets/base",
     "model_module_version": "1.2.0",
     "model_name": "LayoutModel",
     "state": {
      "_model_module": "@jupyter-widgets/base",
      "_model_module_version": "1.2.0",
      "_model_name": "LayoutModel",
      "_view_count": null,
      "_view_module": "@jupyter-widgets/base",
      "_view_module_version": "1.2.0",
      "_view_name": "LayoutView",
      "align_content": null,
      "align_items": null,
      "align_self": null,
      "border": null,
      "bottom": null,
      "display": null,
      "flex": null,
      "flex_flow": null,
      "grid_area": null,
      "grid_auto_columns": null,
      "grid_auto_flow": null,
      "grid_auto_rows": null,
      "grid_column": null,
      "grid_gap": null,
      "grid_row": null,
      "grid_template_areas": null,
      "grid_template_columns": null,
      "grid_template_rows": null,
      "height": null,
      "justify_content": null,
      "justify_items": null,
      "left": null,
      "margin": null,
      "max_height": null,
      "max_width": null,
      "min_height": null,
      "min_width": null,
      "object_fit": null,
      "object_position": null,
      "order": null,
      "overflow": null,
      "overflow_x": null,
      "overflow_y": null,
      "padding": null,
      "right": null,
      "top": null,
      "visibility": null,
      "width": null
     }
    },
    "dae6375e018b42c487630b879bcd32b1": {
     "model_module": "@jupyter-widgets/controls",
     "model_module_version": "1.5.0",
     "model_name": "DescriptionStyleModel",
     "state": {
      "_model_module": "@jupyter-widgets/controls",
      "_model_module_version": "1.5.0",
      "_model_name": "DescriptionStyleModel",
      "_view_count": null,
      "_view_module": "@jupyter-widgets/base",
      "_view_module_version": "1.2.0",
      "_view_name": "StyleView",
      "description_width": ""
     }
    },
    "dc223d2762c2481a83a404a85db77748": {
     "model_module": "@jupyter-widgets/base",
     "model_module_version": "1.2.0",
     "model_name": "LayoutModel",
     "state": {
      "_model_module": "@jupyter-widgets/base",
      "_model_module_version": "1.2.0",
      "_model_name": "LayoutModel",
      "_view_count": null,
      "_view_module": "@jupyter-widgets/base",
      "_view_module_version": "1.2.0",
      "_view_name": "LayoutView",
      "align_content": null,
      "align_items": null,
      "align_self": null,
      "border": null,
      "bottom": null,
      "display": null,
      "flex": null,
      "flex_flow": null,
      "grid_area": null,
      "grid_auto_columns": null,
      "grid_auto_flow": null,
      "grid_auto_rows": null,
      "grid_column": null,
      "grid_gap": null,
      "grid_row": null,
      "grid_template_areas": null,
      "grid_template_columns": null,
      "grid_template_rows": null,
      "height": null,
      "justify_content": null,
      "justify_items": null,
      "left": null,
      "margin": null,
      "max_height": null,
      "max_width": null,
      "min_height": null,
      "min_width": null,
      "object_fit": null,
      "object_position": null,
      "order": null,
      "overflow": null,
      "overflow_x": null,
      "overflow_y": null,
      "padding": null,
      "right": null,
      "top": null,
      "visibility": null,
      "width": null
     }
    },
    "dc42166bed754db58239d6fc9716cc66": {
     "model_module": "@jupyter-widgets/controls",
     "model_module_version": "1.5.0",
     "model_name": "DescriptionStyleModel",
     "state": {
      "_model_module": "@jupyter-widgets/controls",
      "_model_module_version": "1.5.0",
      "_model_name": "DescriptionStyleModel",
      "_view_count": null,
      "_view_module": "@jupyter-widgets/base",
      "_view_module_version": "1.2.0",
      "_view_name": "StyleView",
      "description_width": ""
     }
    },
    "e389055efc9e4b13b9325043b1211071": {
     "model_module": "@jupyter-widgets/controls",
     "model_module_version": "1.5.0",
     "model_name": "HTMLModel",
     "state": {
      "_dom_classes": [],
      "_model_module": "@jupyter-widgets/controls",
      "_model_module_version": "1.5.0",
      "_model_name": "HTMLModel",
      "_view_count": null,
      "_view_module": "@jupyter-widgets/controls",
      "_view_module_version": "1.5.0",
      "_view_name": "HTMLView",
      "description": "",
      "description_tooltip": null,
      "layout": "IPY_MODEL_b77b054362bc4843a598f1837f298d5b",
      "placeholder": "​",
      "style": "IPY_MODEL_dae6375e018b42c487630b879bcd32b1",
      "value": "tokenizer.json: 100%"
     }
    },
    "e3ff8b8343da4066bebd8060c51c84a4": {
     "model_module": "@jupyter-widgets/controls",
     "model_module_version": "1.5.0",
     "model_name": "FloatProgressModel",
     "state": {
      "_dom_classes": [],
      "_model_module": "@jupyter-widgets/controls",
      "_model_module_version": "1.5.0",
      "_model_name": "FloatProgressModel",
      "_view_count": null,
      "_view_module": "@jupyter-widgets/controls",
      "_view_module_version": "1.5.0",
      "_view_name": "ProgressView",
      "bar_style": "success",
      "description": "",
      "description_tooltip": null,
      "layout": "IPY_MODEL_f102a87fa42d42a2bdd980049ae20588",
      "max": 48,
      "min": 0,
      "orientation": "horizontal",
      "style": "IPY_MODEL_2890c6056b51496a8a3f2bd7bc1bb838",
      "value": 48
     }
    },
    "e6309ce2731c4bcea28385e7f370dd2f": {
     "model_module": "@jupyter-widgets/controls",
     "model_module_version": "1.5.0",
     "model_name": "HBoxModel",
     "state": {
      "_dom_classes": [],
      "_model_module": "@jupyter-widgets/controls",
      "_model_module_version": "1.5.0",
      "_model_name": "HBoxModel",
      "_view_count": null,
      "_view_module": "@jupyter-widgets/controls",
      "_view_module_version": "1.5.0",
      "_view_name": "HBoxView",
      "box_style": "",
      "children": [
       "IPY_MODEL_2a6e571b434140d4bf202864f7d21aa4",
       "IPY_MODEL_fd81dfd2517e4a13a35eeb1625846092",
       "IPY_MODEL_59ec6c992d2840a08616228403e5551d"
      ],
      "layout": "IPY_MODEL_e8c1e5076f39429897146187daed1b21"
     }
    },
    "e8c1e5076f39429897146187daed1b21": {
     "model_module": "@jupyter-widgets/base",
     "model_module_version": "1.2.0",
     "model_name": "LayoutModel",
     "state": {
      "_model_module": "@jupyter-widgets/base",
      "_model_module_version": "1.2.0",
      "_model_name": "LayoutModel",
      "_view_count": null,
      "_view_module": "@jupyter-widgets/base",
      "_view_module_version": "1.2.0",
      "_view_name": "LayoutView",
      "align_content": null,
      "align_items": null,
      "align_self": null,
      "border": null,
      "bottom": null,
      "display": null,
      "flex": null,
      "flex_flow": null,
      "grid_area": null,
      "grid_auto_columns": null,
      "grid_auto_flow": null,
      "grid_auto_rows": null,
      "grid_column": null,
      "grid_gap": null,
      "grid_row": null,
      "grid_template_areas": null,
      "grid_template_columns": null,
      "grid_template_rows": null,
      "height": null,
      "justify_content": null,
      "justify_items": null,
      "left": null,
      "margin": null,
      "max_height": null,
      "max_width": null,
      "min_height": null,
      "min_width": null,
      "object_fit": null,
      "object_position": null,
      "order": null,
      "overflow": null,
      "overflow_x": null,
      "overflow_y": null,
      "padding": null,
      "right": null,
      "top": null,
      "visibility": null,
      "width": null
     }
    },
    "e94a2de41c3c422989754ba3a681f3a3": {
     "model_module": "@jupyter-widgets/controls",
     "model_module_version": "1.5.0",
     "model_name": "HTMLModel",
     "state": {
      "_dom_classes": [],
      "_model_module": "@jupyter-widgets/controls",
      "_model_module_version": "1.5.0",
      "_model_name": "HTMLModel",
      "_view_count": null,
      "_view_module": "@jupyter-widgets/controls",
      "_view_module_version": "1.5.0",
      "_view_name": "HTMLView",
      "description": "",
      "description_tooltip": null,
      "layout": "IPY_MODEL_3d4bdb0660a54cc784fcf9fe6ba9bd77",
      "placeholder": "​",
      "style": "IPY_MODEL_73b5740560f144188e75fbec6c125feb",
      "value": "tokenizer_config.json: 100%"
     }
    },
    "f102a87fa42d42a2bdd980049ae20588": {
     "model_module": "@jupyter-widgets/base",
     "model_module_version": "1.2.0",
     "model_name": "LayoutModel",
     "state": {
      "_model_module": "@jupyter-widgets/base",
      "_model_module_version": "1.2.0",
      "_model_name": "LayoutModel",
      "_view_count": null,
      "_view_module": "@jupyter-widgets/base",
      "_view_module_version": "1.2.0",
      "_view_name": "LayoutView",
      "align_content": null,
      "align_items": null,
      "align_self": null,
      "border": null,
      "bottom": null,
      "display": null,
      "flex": null,
      "flex_flow": null,
      "grid_area": null,
      "grid_auto_columns": null,
      "grid_auto_flow": null,
      "grid_auto_rows": null,
      "grid_column": null,
      "grid_gap": null,
      "grid_row": null,
      "grid_template_areas": null,
      "grid_template_columns": null,
      "grid_template_rows": null,
      "height": null,
      "justify_content": null,
      "justify_items": null,
      "left": null,
      "margin": null,
      "max_height": null,
      "max_width": null,
      "min_height": null,
      "min_width": null,
      "object_fit": null,
      "object_position": null,
      "order": null,
      "overflow": null,
      "overflow_x": null,
      "overflow_y": null,
      "padding": null,
      "right": null,
      "top": null,
      "visibility": null,
      "width": null
     }
    },
    "f1e0b2099292416eb966371bc2163056": {
     "model_module": "@jupyter-widgets/controls",
     "model_module_version": "1.5.0",
     "model_name": "FloatProgressModel",
     "state": {
      "_dom_classes": [],
      "_model_module": "@jupyter-widgets/controls",
      "_model_module_version": "1.5.0",
      "_model_name": "FloatProgressModel",
      "_view_count": null,
      "_view_module": "@jupyter-widgets/controls",
      "_view_module_version": "1.5.0",
      "_view_name": "ProgressView",
      "bar_style": "success",
      "description": "",
      "description_tooltip": null,
      "layout": "IPY_MODEL_a6bda0e2e00f426798b1eb58e713f0e0",
      "max": 570,
      "min": 0,
      "orientation": "horizontal",
      "style": "IPY_MODEL_91bdb9af5c2f48bb8a86440e5eb287d1",
      "value": 570
     }
    },
    "f44e939b1cc640afb0f8dd8f400311d8": {
     "model_module": "@jupyter-widgets/base",
     "model_module_version": "1.2.0",
     "model_name": "LayoutModel",
     "state": {
      "_model_module": "@jupyter-widgets/base",
      "_model_module_version": "1.2.0",
      "_model_name": "LayoutModel",
      "_view_count": null,
      "_view_module": "@jupyter-widgets/base",
      "_view_module_version": "1.2.0",
      "_view_name": "LayoutView",
      "align_content": null,
      "align_items": null,
      "align_self": null,
      "border": null,
      "bottom": null,
      "display": null,
      "flex": null,
      "flex_flow": null,
      "grid_area": null,
      "grid_auto_columns": null,
      "grid_auto_flow": null,
      "grid_auto_rows": null,
      "grid_column": null,
      "grid_gap": null,
      "grid_row": null,
      "grid_template_areas": null,
      "grid_template_columns": null,
      "grid_template_rows": null,
      "height": null,
      "justify_content": null,
      "justify_items": null,
      "left": null,
      "margin": null,
      "max_height": null,
      "max_width": null,
      "min_height": null,
      "min_width": null,
      "object_fit": null,
      "object_position": null,
      "order": null,
      "overflow": null,
      "overflow_x": null,
      "overflow_y": null,
      "padding": null,
      "right": null,
      "top": null,
      "visibility": null,
      "width": null
     }
    },
    "fc66406e416b4a1ab047a0cd7c91fa38": {
     "model_module": "@jupyter-widgets/base",
     "model_module_version": "1.2.0",
     "model_name": "LayoutModel",
     "state": {
      "_model_module": "@jupyter-widgets/base",
      "_model_module_version": "1.2.0",
      "_model_name": "LayoutModel",
      "_view_count": null,
      "_view_module": "@jupyter-widgets/base",
      "_view_module_version": "1.2.0",
      "_view_name": "LayoutView",
      "align_content": null,
      "align_items": null,
      "align_self": null,
      "border": null,
      "bottom": null,
      "display": null,
      "flex": null,
      "flex_flow": null,
      "grid_area": null,
      "grid_auto_columns": null,
      "grid_auto_flow": null,
      "grid_auto_rows": null,
      "grid_column": null,
      "grid_gap": null,
      "grid_row": null,
      "grid_template_areas": null,
      "grid_template_columns": null,
      "grid_template_rows": null,
      "height": null,
      "justify_content": null,
      "justify_items": null,
      "left": null,
      "margin": null,
      "max_height": null,
      "max_width": null,
      "min_height": null,
      "min_width": null,
      "object_fit": null,
      "object_position": null,
      "order": null,
      "overflow": null,
      "overflow_x": null,
      "overflow_y": null,
      "padding": null,
      "right": null,
      "top": null,
      "visibility": null,
      "width": null
     }
    },
    "fd81dfd2517e4a13a35eeb1625846092": {
     "model_module": "@jupyter-widgets/controls",
     "model_module_version": "1.5.0",
     "model_name": "FloatProgressModel",
     "state": {
      "_dom_classes": [],
      "_model_module": "@jupyter-widgets/controls",
      "_model_module_version": "1.5.0",
      "_model_name": "FloatProgressModel",
      "_view_count": null,
      "_view_module": "@jupyter-widgets/controls",
      "_view_module_version": "1.5.0",
      "_view_name": "ProgressView",
      "bar_style": "success",
      "description": "",
      "description_tooltip": null,
      "layout": "IPY_MODEL_500d493e9fba488d818da127898b67e0",
      "max": 440449768,
      "min": 0,
      "orientation": "horizontal",
      "style": "IPY_MODEL_6db6f3d94c674ac3a9269450d40a7e3f",
      "value": 440449768
     }
    }
   }
  }
 },
 "nbformat": 4,
 "nbformat_minor": 4
}
